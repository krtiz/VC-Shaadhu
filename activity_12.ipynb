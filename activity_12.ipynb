{
 "cells": [
  {
   "cell_type": "code",
   "execution_count": 7,
   "metadata": {},
   "outputs": [
    {
     "name": "stdout",
     "output_type": "stream",
     "text": [
      "1\n",
      "Shaadhu\n",
      "BSc Computer Science\n"
     ]
    }
   ],
   "source": [
    "class Student:\n",
    "    def __init__(self,student_id,student_name,student_class):\n",
    "        self.student_id = student_id\n",
    "        self.student_name = student_name\n",
    "        self.student_class = student_class\n",
    "\n",
    "    def display_attributes(self):\n",
    "        print(\"Student ID:\",self.student_id)\n",
    "        print(\"Student Name:\",self.student_name)\n",
    "        print(\"Student Class:\",self.student_class)\n",
    "\n",
    "student1 = Student(1,'Shaadhu','BSc Computer Science')\n",
    "\n",
    "student1.display_attributes()"
   ]
  },
  {
   "cell_type": "code",
   "execution_count": 52,
   "metadata": {},
   "outputs": [
    {
     "name": "stdout",
     "output_type": "stream",
     "text": [
      "Account Balance: 50 \n",
      "\n",
      "Customer Name: David\n",
      "Account Number: 1231655541315\n",
      "Date of Opening: 2023-18-04\n",
      "Balance: 50 \n",
      "\n",
      "Deposited: 100\n",
      "New balance: 150 \n",
      "\n",
      "Insufficient balance. \n",
      "\n"
     ]
    }
   ],
   "source": [
    "class BankAccount:\n",
    "    def __init__(self, account_number, balance, date_of_opening, customer_name):\n",
    "        self.account_number = account_number\n",
    "        self.balance = balance\n",
    "        self.date_of_opening = date_of_opening\n",
    "        self.customer_name = customer_name\n",
    "\n",
    "    def accountDetail(self):\n",
    "        print(\"Customer Name:\", self.customer_name)\n",
    "        print(\"Account Number:\", self.account_number)\n",
    "        print(\"Date of Opening:\", self.date_of_opening)\n",
    "        print(\"Balance:\", self.balance,\"\\n\")\n",
    "\n",
    "    def deposit(self, amount):\n",
    "        if amount <= 0:\n",
    "            print(\"Invalid deposit amount.\",\"\\n\")\n",
    "        else:\n",
    "            self.balance += amount\n",
    "            print(\"Deposited:\", amount)\n",
    "            print(\"New balance:\", self.balance, \"\\n\")\n",
    "\n",
    "    def withdraw(self, amount):\n",
    "        if amount <= 0:\n",
    "            print(\"Invalid withdrawal amount.\",\"\\n\")\n",
    "        elif self.balance < amount:\n",
    "            print(\"Insufficient balance.\",\"\\n\")\n",
    "        else:\n",
    "            self.balance -= amount\n",
    "            print(\"Withdrawn:\", amount)\n",
    "            print(\"New balance:\", self.balance,\"\\n\")\n",
    "\n",
    "    def check_balance(self):\n",
    "        print(\"Account Balance:\", self.balance,\"\\n\")\n",
    "\n",
    "account = BankAccount(account_number=\"1231655541315\",balance=50,date_of_opening=\"2023-18-04\",customer_name=\"David\")\n",
    "\n",
    "account.check_balance()\n",
    "\n",
    "account.accountDetail()\n",
    "\n",
    "account.deposit(100)\n",
    "\n",
    "account.withdraw(160)\n"
   ]
  },
  {
   "cell_type": "code",
   "execution_count": 55,
   "metadata": {},
   "outputs": [
    {
     "name": "stdout",
     "output_type": "stream",
     "text": [
      "**********\n",
      "**********\n",
      "**********\n",
      "**********\n",
      "\n",
      "\n",
      "    *\n",
      "   ***\n",
      "  *****\n",
      " *******\n",
      "*********\n"
     ]
    }
   ],
   "source": [
    "from abc import ABC, abstractmethod\n",
    "\n",
    "class Shape(ABC):\n",
    "   @abstractmethod\n",
    "   def draw(self):\n",
    "      pass\n",
    "\n",
    "   \n",
    "class Traingle(Shape):\n",
    "   def __init__(self,each_side):\n",
    "      self.each_side = each_side\n",
    "      \n",
    "   def draw(self):\n",
    "      for i in range(self.each_side):\n",
    "            print(' ' * (self.each_side - i - 1) + '*' * (2 * i + 1))\n",
    "\n",
    "class Rectangle(Shape):\n",
    "   def __init__(self,width,height):\n",
    "      self.width = width\n",
    "      self.height = height\n",
    "\n",
    "   def draw(self):\n",
    "      for i in range(self.height):\n",
    "         print('*' * self.width)\n",
    "\n",
    "rectangle = Rectangle(10,4)\n",
    "rectangle.draw()\n",
    "print(\"\\n\")\n",
    "traingle = Traingle(5)\n",
    "traingle.draw()\n"
   ]
  }
 ],
 "metadata": {
  "kernelspec": {
   "display_name": "Python 3",
   "language": "python",
   "name": "python3"
  },
  "language_info": {
   "codemirror_mode": {
    "name": "ipython",
    "version": 3
   },
   "file_extension": ".py",
   "mimetype": "text/x-python",
   "name": "python",
   "nbconvert_exporter": "python",
   "pygments_lexer": "ipython3",
   "version": "3.11.1"
  },
  "orig_nbformat": 4
 },
 "nbformat": 4,
 "nbformat_minor": 2
}
