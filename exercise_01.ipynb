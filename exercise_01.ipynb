{
 "cells": [
  {
   "cell_type": "code",
   "execution_count": 1,
   "metadata": {},
   "outputs": [],
   "source": [
    "# Write a function that takes in a number and checks whether the number is odd or even and return a string indicating that.\n",
    "# Write a function called isPalindrome that takes in a string and checks whether it is palindrome and returns True or False. (Can Google)\n",
    "# Write a for loop to draw an inverted pyramid with asterisks\n",
    "# Write a function that takes in two points and calculates the distance between the two points.. The two points can be represented by any data struction of your choice. (use Eulident Distant Formular)"
   ]
  },
  {
   "cell_type": "code",
   "execution_count": 10,
   "metadata": {},
   "outputs": [
    {
     "data": {
      "text/plain": [
       "'number is even'"
      ]
     },
     "execution_count": 10,
     "metadata": {},
     "output_type": "execute_result"
    }
   ],
   "source": [
    "# Question 1\n",
    "def odd_or_even(my_number):\n",
    "    if my_number % 2 == 0:\n",
    "        return \"number is even\"\n",
    "    else:\n",
    "        return \"number is odd\"\n",
    "    \n",
    "odd_or_even(12)"
   ]
  },
  {
   "cell_type": "code",
   "execution_count": 14,
   "metadata": {},
   "outputs": [
    {
     "data": {
      "text/plain": [
       "False"
      ]
     },
     "execution_count": 14,
     "metadata": {},
     "output_type": "execute_result"
    }
   ],
   "source": [
    "# Question 2\n",
    "\n",
    "def isPlaindrome(name):\n",
    "    return (name.lower() == name.lower()[::-1])\n",
    "\n",
    "isPlaindrome(\"Dem\")"
   ]
  },
  {
   "cell_type": "code",
   "execution_count": 37,
   "metadata": {},
   "outputs": [
    {
     "name": "stdout",
     "output_type": "stream",
     "text": [
      "*********\n",
      " *******\n",
      "  *****\n",
      "   ***\n",
      "    *\n"
     ]
    }
   ],
   "source": [
    "# Question 3\n",
    "pyramid = 5\n",
    "\n",
    "for i in range(pyramid,0,-1):\n",
    "    print(' ' * (pyramid - i - 0) + '*' * (2*i-1))\n",
    "\n"
   ]
  },
  {
   "cell_type": "code",
   "execution_count": null,
   "metadata": {},
   "outputs": [],
   "source": []
  }
 ],
 "metadata": {
  "kernelspec": {
   "display_name": "Python 3",
   "language": "python",
   "name": "python3"
  },
  "language_info": {
   "codemirror_mode": {
    "name": "ipython",
    "version": 3
   },
   "file_extension": ".py",
   "mimetype": "text/x-python",
   "name": "python",
   "nbconvert_exporter": "python",
   "pygments_lexer": "ipython3",
   "version": "3.11.2"
  },
  "orig_nbformat": 4
 },
 "nbformat": 4,
 "nbformat_minor": 2
}
